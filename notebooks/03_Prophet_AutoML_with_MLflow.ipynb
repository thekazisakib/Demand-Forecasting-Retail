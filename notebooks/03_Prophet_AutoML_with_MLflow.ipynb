{
 "cells": [
  {
   "cell_type": "markdown",
   "metadata": {},
   "source": [
    "___\n",
    "<a name=\"setup\"></a>\n",
    "## (1) Initial Setup"
   ]
  },
  {
   "cell_type": "markdown",
   "metadata": {},
   "source": [
    "# Demand Forcasting Retail\n",
    "\n",
    "## Part 3 - Prophet AutoML with MLflow\n"
   ]
  },
  {
   "cell_type": "markdown",
   "metadata": {},
   "source": [
    "### Install pre-requisite dependencies"
   ]
  },
  {
   "cell_type": "markdown",
   "metadata": {},
   "source": [
    "### Import dependencies and datasets"
   ]
  },
  {
   "cell_type": "code",
   "execution_count": 1,
   "metadata": {},
   "outputs": [
    {
     "name": "stderr",
     "output_type": "stream",
     "text": [
      "c:\\Users\\newth\\miniconda3\\envs\\forcast\\lib\\site-packages\\tqdm\\auto.py:21: TqdmWarning: IProgress not found. Please update jupyter and ipywidgets. See https://ipywidgets.readthedocs.io/en/stable/user_install.html\n",
      "  from .autonotebook import tqdm as notebook_tqdm\n",
      "Importing plotly failed. Interactive plots will not work.\n"
     ]
    }
   ],
   "source": [
    "import pandas as pd\n",
    "import mlflow\n",
    "import pickle\n",
    "from prophet import Prophet\n",
    "from sklearn.metrics import mean_absolute_error, mean_squared_error\n",
    "import warnings\n",
    "\n",
    "warnings.filterwarnings(\"ignore\")"
   ]
  },
  {
   "cell_type": "code",
   "execution_count": 2,
   "metadata": {},
   "outputs": [],
   "source": [
    "# Load Data\n",
    "train_df = pd.read_csv('data/processed/train.csv')\n",
    "test_df = pd.read_csv('data/processed/test.csv')"
   ]
  },
  {
   "cell_type": "code",
   "execution_count": 3,
   "metadata": {},
   "outputs": [],
   "source": [
    "# Prepare data for Prophet\n",
    "train_df.rename(columns={'Year': 'ds', 'Weekly_Sales': 'y'}, inplace=True)\n",
    "test_df.rename(columns={'Year': 'ds'}, inplace=True)"
   ]
  },
  {
   "cell_type": "code",
   "execution_count": 4,
   "metadata": {},
   "outputs": [],
   "source": [
    "# Ensure datetime format\n",
    "train_df['ds'] = pd.to_datetime(train_df['ds'])\n",
    "test_df['ds'] = pd.to_datetime(test_df['ds'])"
   ]
  },
  {
   "cell_type": "code",
   "execution_count": 5,
   "metadata": {},
   "outputs": [
    {
     "data": {
      "text/plain": [
       "<Experiment: artifact_location='file:///C:/Ml_Project/Demand-Forecasting-Retail/notebooks/mlruns/2', experiment_id='2', lifecycle_stage='active', name='prophet-automl-forecasting', tags={}>"
      ]
     },
     "execution_count": 5,
     "metadata": {},
     "output_type": "execute_result"
    }
   ],
   "source": [
    "# Set up MLflow experiment\n",
    "experiment_name = \"prophet-automl-forecasting\"\n",
    "mlflow.set_experiment(experiment_name)"
   ]
  },
  {
   "cell_type": "code",
   "execution_count": 6,
   "metadata": {},
   "outputs": [
    {
     "name": "stderr",
     "output_type": "stream",
     "text": [
      "22:47:55 - cmdstanpy - INFO - Chain [1] start processing\n",
      "22:48:03 - cmdstanpy - INFO - Chain [1] done processing\n"
     ]
    },
    {
     "name": "stdout",
     "output_type": "stream",
     "text": [
      "MAE: 0.0230521324529331, RMSE: 0.034546070030004185\n",
      "Forecast saved!\n"
     ]
    }
   ],
   "source": [
    "with mlflow.start_run():\n",
    "    # Initialize Prophet model\n",
    "    model = Prophet()\n",
    "    model.fit(train_df)\n",
    "    \n",
    "    # Make future predictions\n",
    "    future = test_df[['ds']].copy()\n",
    "    forecast = model.predict(future)\n",
    "    \n",
    "    # Extract relevant forecast values\n",
    "    predictions = forecast[['ds', 'yhat']].rename(columns={'yhat': 'forecast'})\n",
    "    \n",
    "    # Evaluate model\n",
    "    y_true = test_df['Weekly_Sales'].values\n",
    "    y_pred = predictions['forecast'].values\n",
    "    \n",
    "    mae = mean_absolute_error(y_true, y_pred)\n",
    "    rmse = mean_squared_error(y_true, y_pred, squared=False)\n",
    "    \n",
    "    # Log metrics\n",
    "    mlflow.log_metric(\"MAE\", mae)\n",
    "    mlflow.log_metric(\"RMSE\", rmse)\n",
    "    \n",
    "    # Save model manually (avoiding mlflow.prophet issues)\n",
    "    model_path = \"data/processed/prophet_model.pkl\"\n",
    "    with open(model_path, \"wb\") as f:\n",
    "        pickle.dump(model, f)\n",
    "    mlflow.log_artifact(model_path)\n",
    "    \n",
    "    print(f\"MAE: {mae}, RMSE: {rmse}\")\n",
    "    \n",
    "    # Save predictions\n",
    "    predictions.to_csv(\"data/processed/forecast_results.csv\", index=False)\n",
    "    print(\"Forecast saved!\")\n"
   ]
  },
  {
   "cell_type": "code",
   "execution_count": 7,
   "metadata": {},
   "outputs": [
    {
     "name": "stdout",
     "output_type": "stream",
     "text": [
      "                                 ds      yhat\n",
      "84309 1970-01-01 00:00:00.000000001  0.030038\n",
      "84310 1970-01-01 00:00:00.000000001  0.030038\n",
      "84311 1970-01-01 00:00:00.000000001  0.030038\n",
      "84312 1970-01-01 00:00:00.000000001  0.030038\n",
      "84313 1970-01-01 00:00:00.000000001  0.030038\n"
     ]
    }
   ],
   "source": [
    "# Load best model for inference\n",
    "with open(model_path, \"rb\") as f:\n",
    "    best_model = pickle.load(f)\n",
    "\n",
    "# Make final forecast using loaded model\n",
    "test_forecast = best_model.predict(test_df[['ds']])\n",
    "print(test_forecast[['ds', 'yhat']].tail())"
   ]
  },
  {
   "cell_type": "markdown",
   "metadata": {},
   "source": [
    "### Setup MLflow"
   ]
  },
  {
   "cell_type": "markdown",
   "metadata": {},
   "source": [
    "- First open Powershell terminal and change path to the directory hosting this notebook (e.g. `newth@latest MINGW64 /c/Ml_Project/Demand-Forecasting-Retail'\n",
    "- Enter `mlflow ui` to initiate MLFlow server\n",
    "- Once done, access the MLFlow UI served on http://127.0.0.1:5000"
   ]
  },
  {
   "cell_type": "markdown",
   "metadata": {},
   "source": [
    "![image.png](C://Ml_Project//Demand-Forecasting-Retail//image.png)"
   ]
  },
  {
   "cell_type": "code",
   "execution_count": 8,
   "metadata": {},
   "outputs": [
    {
     "name": "stdout",
     "output_type": "stream",
     "text": [
      "Name: prophet-automl-forecasting\n",
      "Experiment ID: 2\n",
      "Artifact Location: file:///C:/Ml_Project/Demand-Forecasting-Retail/notebooks/mlruns/2\n",
      "Tags: {}\n",
      "Lifecycle Stage: active\n",
      "Tracking URI: file:///C:/Ml_Project/Demand-Forecasting-Retail/notebooks/mlruns\n"
     ]
    }
   ],
   "source": [
    "import mlflow\n",
    "from mlflow.tracking import MlflowClient\n",
    "\n",
    "# Initialize MLflow client\n",
    "client = MlflowClient()\n",
    "\n",
    "# Set up MLflow experiment\n",
    "experiment_name = \"prophet-automl-forecasting\"\n",
    "mlflow.set_experiment(experiment_name)\n",
    "\n",
    "# Get experiment details\n",
    "experiment = client.get_experiment_by_name(experiment_name)\n",
    "\n",
    "# Print experiment details\n",
    "print(f\"Name: {experiment.name}\")\n",
    "print(f\"Experiment ID: {experiment.experiment_id}\")\n",
    "print(f\"Artifact Location: {experiment.artifact_location}\")\n",
    "print(f\"Tags: {experiment.tags}\")\n",
    "print(f\"Lifecycle Stage: {experiment.lifecycle_stage}\")\n",
    "print(f\"Tracking URI: {mlflow.get_tracking_uri()}\")\n"
   ]
  },
  {
   "cell_type": "markdown",
   "metadata": {},
   "source": [
    "___\n",
    "<a name=\"automl\"></a>\n",
    "## (2) Prophet AutoML MLFlow Tracking"
   ]
  },
  {
   "cell_type": "code",
   "execution_count": 9,
   "metadata": {},
   "outputs": [
    {
     "name": "stdout",
     "output_type": "stream",
     "text": [
      "Run ID: 9993ff5ecf20489f835b198fea6a29c7\n",
      "Status: FINISHED\n",
      "Start Time: 1739639861713\n",
      "Metrics: {'MAE': 0.0230521324529331, 'RMSE': 0.034546070030004185}\n",
      "Params: {}\n",
      "--------------------------------------------------\n",
      "Run ID: 8d83ecd49e424f60a6dfed9887aa4882\n",
      "Status: FINISHED\n",
      "Start Time: 1739639611410\n",
      "Metrics: {'accuracy': 0.92}\n",
      "Params: {'param1': '5'}\n",
      "--------------------------------------------------\n",
      "Run ID: bbe200e629934f1a8036f6c2711a7412\n",
      "Status: FINISHED\n",
      "Start Time: 1739639603526\n",
      "Metrics: {'accuracy': 0.92}\n",
      "Params: {'param1': '5'}\n",
      "--------------------------------------------------\n",
      "Run ID: c8f3ef1108a4434b92112900eb653f72\n",
      "Status: FINISHED\n",
      "Start Time: 1739639019430\n",
      "Metrics: {}\n",
      "Params: {}\n",
      "--------------------------------------------------\n",
      "Run ID: f6034adbe8b745739954d6b014f3172d\n",
      "Status: FINISHED\n",
      "Start Time: 1739638876016\n",
      "Metrics: {'accuracy': 0.92}\n",
      "Params: {'param1': '5'}\n",
      "--------------------------------------------------\n",
      "Run ID: 66bbd674508a423a9b578465b73b53dc\n",
      "Status: FINISHED\n",
      "Start Time: 1739638869198\n",
      "Metrics: {'accuracy': 0.92}\n",
      "Params: {'param1': '5'}\n",
      "--------------------------------------------------\n",
      "Run ID: 117938feb1284999bb116d7a842f519b\n",
      "Status: FINISHED\n",
      "Start Time: 1739636519990\n",
      "Metrics: {}\n",
      "Params: {}\n",
      "--------------------------------------------------\n",
      "Run ID: 26159ff7b99d40d58816dd75f00a9f59\n",
      "Status: FINISHED\n",
      "Start Time: 1739625267064\n",
      "Metrics: {'MAE': 0.0230521324529331, 'RMSE': 0.034546070030004185}\n",
      "Params: {}\n",
      "--------------------------------------------------\n",
      "Run ID: 10786f4c2f2844979e816233e05f0a10\n",
      "Status: FAILED\n",
      "Start Time: 1739624780566\n",
      "Metrics: {'MAE': 0.0230521324529331, 'RMSE': 0.034546070030004185}\n",
      "Params: {}\n",
      "--------------------------------------------------\n",
      "Run ID: cf40531756c64b66bc36da6411993de6\n",
      "Status: FAILED\n",
      "Start Time: 1739624475096\n",
      "Metrics: {}\n",
      "Params: {}\n",
      "--------------------------------------------------\n",
      "Run ID: 57f27b64ea5f481499858fdb0a3134af\n",
      "Status: FINISHED\n",
      "Start Time: 1739623917567\n",
      "Metrics: {}\n",
      "Params: {}\n",
      "--------------------------------------------------\n",
      "Run ID: f250ceb49d9942ae8e64541feb3095df\n",
      "Status: FAILED\n",
      "Start Time: 1739623303917\n",
      "Metrics: {'MAE': 2384465973120005.5, 'RMSE': 2753335979034440.0}\n",
      "Params: {}\n",
      "--------------------------------------------------\n"
     ]
    }
   ],
   "source": [
    "import mlflow\n",
    "from mlflow.tracking import MlflowClient\n",
    "\n",
    "# Initialize MLflow client\n",
    "client = MlflowClient()\n",
    "\n",
    "# Get all runs in the experiment\n",
    "experiment = client.get_experiment_by_name(\"prophet-automl-forecasting\")\n",
    "runs = client.search_runs(experiment.experiment_id)\n",
    "\n",
    "# Print details of each run\n",
    "for run in runs:\n",
    "    print(f\"Run ID: {run.info.run_id}\")\n",
    "    print(f\"Status: {run.info.status}\")\n",
    "    print(f\"Start Time: {run.info.start_time}\")\n",
    "    print(f\"Metrics: {run.data.metrics}\")\n",
    "    print(f\"Params: {run.data.params}\")\n",
    "    print(\"-\" * 50)\n"
   ]
  },
  {
   "cell_type": "markdown",
   "metadata": {},
   "source": [
    "# MLflow Tracking UI\n",
    "mlflow ui --backend-store-uri file:///C:/Ml_Project/Demand-Forecasting-Retail/notebooks/mlruns\n"
   ]
  },
  {
   "cell_type": "markdown",
   "metadata": {},
   "source": [
    "mlflow server \\\n",
    "    --backend-store-uri sqlite:///mlflow.db \\\n",
    "    --default-artifact-root file:///C:/Ml_Project/Demand-Forecasting-Retail/notebooks/mlruns \\\n",
    "    --host 127.0.0.1 --port 5000\n"
   ]
  },
  {
   "cell_type": "code",
   "execution_count": null,
   "metadata": {},
   "outputs": [],
   "source": [
    "# Run this on git bush for tracking\n",
    "# mlflow server --backend-store-uri sqlite:///mlflow.db --default-artifact-root file:///C:/Ml_Project/Demand-Forecasting-Retail/notebooks/mlruns --host 0.0.0.0 --port 5000"
   ]
  },
  {
   "cell_type": "code",
   "execution_count": 15,
   "metadata": {},
   "outputs": [],
   "source": [
    "mlflow.set_tracking_uri(\"http://127.0.0.1:5000\")"
   ]
  },
  {
   "cell_type": "code",
   "execution_count": 16,
   "metadata": {},
   "outputs": [],
   "source": [
    "import mlflow\n",
    "\n",
    "# Check if a run is already active and end it\n",
    "if mlflow.active_run():\n",
    "    mlflow.end_run()\n",
    "\n",
    "# Now start a new run\n",
    "with mlflow.start_run():\n",
    "    mlflow.log_param(\"param1\", 5)\n",
    "    mlflow.log_metric(\"accuracy\", 0.92)\n"
   ]
  },
  {
   "cell_type": "code",
   "execution_count": 17,
   "metadata": {},
   "outputs": [],
   "source": [
    "# Log Experiments \n",
    "import mlflow\n",
    "\n",
    "mlflow.set_tracking_uri(\"http://127.0.0.1:5000\")\n",
    "mlflow.set_experiment(\"prophet-automl-forecasting\")\n",
    "\n",
    "with mlflow.start_run():\n",
    "    mlflow.log_param(\"param1\", 5)\n",
    "    mlflow.log_metric(\"accuracy\", 0.92)\n"
   ]
  },
  {
   "cell_type": "markdown",
   "metadata": {},
   "source": [
    "### View best model"
   ]
  },
  {
   "cell_type": "code",
   "execution_count": 22,
   "metadata": {},
   "outputs": [
    {
     "ename": "RestException",
     "evalue": "INVALID_PARAMETER_VALUE:  Model registry functionality is unavailable; got unsupported URI 'file:///C:/Ml_Project/Demand-Forecasting-Retail/notebooks/mlruns' for model registry data storage. Supported URI schemes are: ['postgresql', 'mysql', 'sqlite', 'mssql']. See https://www.mlflow.org/docs/latest/tracking.html#storage for how to run an MLflow server against one of the supported backend storage locations.",
     "output_type": "error",
     "traceback": [
      "\u001b[1;31m---------------------------------------------------------------------------\u001b[0m",
      "\u001b[1;31mRestException\u001b[0m                             Traceback (most recent call last)",
      "Cell \u001b[1;32mIn[22], line 12\u001b[0m\n\u001b[0;32m      9\u001b[0m model_uri \u001b[38;5;241m=\u001b[39m \u001b[38;5;124mf\u001b[39m\u001b[38;5;124m\"\u001b[39m\u001b[38;5;124mruns:/\u001b[39m\u001b[38;5;132;01m{\u001b[39;00mrun_id\u001b[38;5;132;01m}\u001b[39;00m\u001b[38;5;124m/model\u001b[39m\u001b[38;5;124m\"\u001b[39m\n\u001b[0;32m     10\u001b[0m model_name \u001b[38;5;241m=\u001b[39m \u001b[38;5;124m\"\u001b[39m\u001b[38;5;124mProphetForecastModel\u001b[39m\u001b[38;5;124m\"\u001b[39m\n\u001b[1;32m---> 12\u001b[0m \u001b[43mmlflow\u001b[49m\u001b[38;5;241;43m.\u001b[39;49m\u001b[43mregister_model\u001b[49m\u001b[43m(\u001b[49m\u001b[43mmodel_uri\u001b[49m\u001b[43m,\u001b[49m\u001b[43m \u001b[49m\u001b[43mmodel_name\u001b[49m\u001b[43m)\u001b[49m\n",
      "File \u001b[1;32mc:\\Users\\newth\\miniconda3\\envs\\forcast\\lib\\site-packages\\mlflow\\tracking\\_model_registry\\fluent.py:67\u001b[0m, in \u001b[0;36mregister_model\u001b[1;34m(model_uri, name, await_registration_for)\u001b[0m\n\u001b[0;32m     62\u001b[0m         eprint(\n\u001b[0;32m     63\u001b[0m             \u001b[38;5;124m\"\u001b[39m\u001b[38;5;124mRegistered model \u001b[39m\u001b[38;5;124m'\u001b[39m\u001b[38;5;132;01m%s\u001b[39;00m\u001b[38;5;124m'\u001b[39m\u001b[38;5;124m already exists. Creating a new version of this model...\u001b[39m\u001b[38;5;124m\"\u001b[39m\n\u001b[0;32m     64\u001b[0m             \u001b[38;5;241m%\u001b[39m name\n\u001b[0;32m     65\u001b[0m         )\n\u001b[0;32m     66\u001b[0m     \u001b[38;5;28;01melse\u001b[39;00m:\n\u001b[1;32m---> 67\u001b[0m         \u001b[38;5;28;01mraise\u001b[39;00m e\n\u001b[0;32m     69\u001b[0m \u001b[38;5;28;01mif\u001b[39;00m RunsArtifactRepository\u001b[38;5;241m.\u001b[39mis_runs_uri(model_uri):\n\u001b[0;32m     70\u001b[0m     source \u001b[38;5;241m=\u001b[39m RunsArtifactRepository\u001b[38;5;241m.\u001b[39mget_underlying_uri(model_uri)\n",
      "File \u001b[1;32mc:\\Users\\newth\\miniconda3\\envs\\forcast\\lib\\site-packages\\mlflow\\tracking\\_model_registry\\fluent.py:58\u001b[0m, in \u001b[0;36mregister_model\u001b[1;34m(model_uri, name, await_registration_for)\u001b[0m\n\u001b[0;32m     56\u001b[0m client \u001b[38;5;241m=\u001b[39m MlflowClient()\n\u001b[0;32m     57\u001b[0m \u001b[38;5;28;01mtry\u001b[39;00m:\n\u001b[1;32m---> 58\u001b[0m     create_model_response \u001b[38;5;241m=\u001b[39m \u001b[43mclient\u001b[49m\u001b[38;5;241;43m.\u001b[39;49m\u001b[43mcreate_registered_model\u001b[49m\u001b[43m(\u001b[49m\u001b[43mname\u001b[49m\u001b[43m)\u001b[49m\n\u001b[0;32m     59\u001b[0m     eprint(\u001b[38;5;124m\"\u001b[39m\u001b[38;5;124mSuccessfully registered model \u001b[39m\u001b[38;5;124m'\u001b[39m\u001b[38;5;132;01m%s\u001b[39;00m\u001b[38;5;124m'\u001b[39m\u001b[38;5;124m.\u001b[39m\u001b[38;5;124m\"\u001b[39m \u001b[38;5;241m%\u001b[39m create_model_response\u001b[38;5;241m.\u001b[39mname)\n\u001b[0;32m     60\u001b[0m \u001b[38;5;28;01mexcept\u001b[39;00m MlflowException \u001b[38;5;28;01mas\u001b[39;00m e:\n",
      "File \u001b[1;32mc:\\Users\\newth\\miniconda3\\envs\\forcast\\lib\\site-packages\\mlflow\\tracking\\client.py:1658\u001b[0m, in \u001b[0;36mMlflowClient.create_registered_model\u001b[1;34m(self, name, tags, description)\u001b[0m\n\u001b[0;32m   1618\u001b[0m \u001b[38;5;28;01mdef\u001b[39;00m \u001b[38;5;21mcreate_registered_model\u001b[39m(\n\u001b[0;32m   1619\u001b[0m     \u001b[38;5;28mself\u001b[39m, name: \u001b[38;5;28mstr\u001b[39m, tags: Optional[Dict[\u001b[38;5;28mstr\u001b[39m, Any]] \u001b[38;5;241m=\u001b[39m \u001b[38;5;28;01mNone\u001b[39;00m, description: Optional[\u001b[38;5;28mstr\u001b[39m] \u001b[38;5;241m=\u001b[39m \u001b[38;5;28;01mNone\u001b[39;00m\n\u001b[0;32m   1620\u001b[0m ) \u001b[38;5;241m-\u001b[39m\u001b[38;5;241m>\u001b[39m RegisteredModel:\n\u001b[0;32m   1621\u001b[0m \u001b[38;5;250m    \u001b[39m\u001b[38;5;124;03m\"\"\"\u001b[39;00m\n\u001b[0;32m   1622\u001b[0m \u001b[38;5;124;03m    Create a new registered model in backend store.\u001b[39;00m\n\u001b[0;32m   1623\u001b[0m \n\u001b[1;32m   (...)\u001b[0m\n\u001b[0;32m   1656\u001b[0m \u001b[38;5;124;03m        description: This sentiment analysis model classifies the tone-happy, sad, angry.\u001b[39;00m\n\u001b[0;32m   1657\u001b[0m \u001b[38;5;124;03m    \"\"\"\u001b[39;00m\n\u001b[1;32m-> 1658\u001b[0m     \u001b[38;5;28;01mreturn\u001b[39;00m \u001b[38;5;28;43mself\u001b[39;49m\u001b[38;5;241;43m.\u001b[39;49m\u001b[43m_get_registry_client\u001b[49m\u001b[43m(\u001b[49m\u001b[43m)\u001b[49m\u001b[38;5;241;43m.\u001b[39;49m\u001b[43mcreate_registered_model\u001b[49m\u001b[43m(\u001b[49m\u001b[43mname\u001b[49m\u001b[43m,\u001b[49m\u001b[43m \u001b[49m\u001b[43mtags\u001b[49m\u001b[43m,\u001b[49m\u001b[43m \u001b[49m\u001b[43mdescription\u001b[49m\u001b[43m)\u001b[49m\n",
      "File \u001b[1;32mc:\\Users\\newth\\miniconda3\\envs\\forcast\\lib\\site-packages\\mlflow\\tracking\\_model_registry\\client.py:59\u001b[0m, in \u001b[0;36mModelRegistryClient.create_registered_model\u001b[1;34m(self, name, tags, description)\u001b[0m\n\u001b[0;32m     57\u001b[0m tags \u001b[38;5;241m=\u001b[39m tags \u001b[38;5;28;01mif\u001b[39;00m tags \u001b[38;5;28;01melse\u001b[39;00m {}\n\u001b[0;32m     58\u001b[0m tags \u001b[38;5;241m=\u001b[39m [RegisteredModelTag(key, \u001b[38;5;28mstr\u001b[39m(value)) \u001b[38;5;28;01mfor\u001b[39;00m key, value \u001b[38;5;129;01min\u001b[39;00m tags\u001b[38;5;241m.\u001b[39mitems()]\n\u001b[1;32m---> 59\u001b[0m \u001b[38;5;28;01mreturn\u001b[39;00m \u001b[38;5;28;43mself\u001b[39;49m\u001b[38;5;241;43m.\u001b[39;49m\u001b[43mstore\u001b[49m\u001b[38;5;241;43m.\u001b[39;49m\u001b[43mcreate_registered_model\u001b[49m\u001b[43m(\u001b[49m\u001b[43mname\u001b[49m\u001b[43m,\u001b[49m\u001b[43m \u001b[49m\u001b[43mtags\u001b[49m\u001b[43m,\u001b[49m\u001b[43m \u001b[49m\u001b[43mdescription\u001b[49m\u001b[43m)\u001b[49m\n",
      "File \u001b[1;32mc:\\Users\\newth\\miniconda3\\envs\\forcast\\lib\\site-packages\\mlflow\\store\\model_registry\\rest_store.py:83\u001b[0m, in \u001b[0;36mRestStore.create_registered_model\u001b[1;34m(self, name, tags, description)\u001b[0m\n\u001b[0;32m     79\u001b[0m proto_tags \u001b[38;5;241m=\u001b[39m [tag\u001b[38;5;241m.\u001b[39mto_proto() \u001b[38;5;28;01mfor\u001b[39;00m tag \u001b[38;5;129;01min\u001b[39;00m tags \u001b[38;5;129;01mor\u001b[39;00m []]\n\u001b[0;32m     80\u001b[0m req_body \u001b[38;5;241m=\u001b[39m message_to_json(\n\u001b[0;32m     81\u001b[0m     CreateRegisteredModel(name\u001b[38;5;241m=\u001b[39mname, tags\u001b[38;5;241m=\u001b[39mproto_tags, description\u001b[38;5;241m=\u001b[39mdescription)\n\u001b[0;32m     82\u001b[0m )\n\u001b[1;32m---> 83\u001b[0m response_proto \u001b[38;5;241m=\u001b[39m \u001b[38;5;28;43mself\u001b[39;49m\u001b[38;5;241;43m.\u001b[39;49m\u001b[43m_call_endpoint\u001b[49m\u001b[43m(\u001b[49m\u001b[43mCreateRegisteredModel\u001b[49m\u001b[43m,\u001b[49m\u001b[43m \u001b[49m\u001b[43mreq_body\u001b[49m\u001b[43m)\u001b[49m\n\u001b[0;32m     84\u001b[0m \u001b[38;5;28;01mreturn\u001b[39;00m RegisteredModel\u001b[38;5;241m.\u001b[39mfrom_proto(response_proto\u001b[38;5;241m.\u001b[39mregistered_model)\n",
      "File \u001b[1;32mc:\\Users\\newth\\miniconda3\\envs\\forcast\\lib\\site-packages\\mlflow\\store\\model_registry\\rest_store.py:64\u001b[0m, in \u001b[0;36mRestStore._call_endpoint\u001b[1;34m(self, api, json_body, call_all_endpoints)\u001b[0m\n\u001b[0;32m     62\u001b[0m \u001b[38;5;28;01melse\u001b[39;00m:\n\u001b[0;32m     63\u001b[0m     endpoint, method \u001b[38;5;241m=\u001b[39m _METHOD_TO_INFO[api]\n\u001b[1;32m---> 64\u001b[0m     \u001b[38;5;28;01mreturn\u001b[39;00m \u001b[43mcall_endpoint\u001b[49m\u001b[43m(\u001b[49m\u001b[38;5;28;43mself\u001b[39;49m\u001b[38;5;241;43m.\u001b[39;49m\u001b[43mget_host_creds\u001b[49m\u001b[43m(\u001b[49m\u001b[43m)\u001b[49m\u001b[43m,\u001b[49m\u001b[43m \u001b[49m\u001b[43mendpoint\u001b[49m\u001b[43m,\u001b[49m\u001b[43m \u001b[49m\u001b[43mmethod\u001b[49m\u001b[43m,\u001b[49m\u001b[43m \u001b[49m\u001b[43mjson_body\u001b[49m\u001b[43m,\u001b[49m\u001b[43m \u001b[49m\u001b[43mresponse_proto\u001b[49m\u001b[43m)\u001b[49m\n",
      "File \u001b[1;32mc:\\Users\\newth\\miniconda3\\envs\\forcast\\lib\\site-packages\\mlflow\\utils\\rest_utils.py:256\u001b[0m, in \u001b[0;36mcall_endpoint\u001b[1;34m(host_creds, endpoint, method, json_body, response_proto)\u001b[0m\n\u001b[0;32m    252\u001b[0m \u001b[38;5;28;01melse\u001b[39;00m:\n\u001b[0;32m    253\u001b[0m     response \u001b[38;5;241m=\u001b[39m http_request(\n\u001b[0;32m    254\u001b[0m         host_creds\u001b[38;5;241m=\u001b[39mhost_creds, endpoint\u001b[38;5;241m=\u001b[39mendpoint, method\u001b[38;5;241m=\u001b[39mmethod, json\u001b[38;5;241m=\u001b[39mjson_body\n\u001b[0;32m    255\u001b[0m     )\n\u001b[1;32m--> 256\u001b[0m response \u001b[38;5;241m=\u001b[39m \u001b[43mverify_rest_response\u001b[49m\u001b[43m(\u001b[49m\u001b[43mresponse\u001b[49m\u001b[43m,\u001b[49m\u001b[43m \u001b[49m\u001b[43mendpoint\u001b[49m\u001b[43m)\u001b[49m\n\u001b[0;32m    257\u001b[0m js_dict \u001b[38;5;241m=\u001b[39m json\u001b[38;5;241m.\u001b[39mloads(response\u001b[38;5;241m.\u001b[39mtext)\n\u001b[0;32m    258\u001b[0m parse_dict(js_dict\u001b[38;5;241m=\u001b[39mjs_dict, message\u001b[38;5;241m=\u001b[39mresponse_proto)\n",
      "File \u001b[1;32mc:\\Users\\newth\\miniconda3\\envs\\forcast\\lib\\site-packages\\mlflow\\utils\\rest_utils.py:185\u001b[0m, in \u001b[0;36mverify_rest_response\u001b[1;34m(response, endpoint)\u001b[0m\n\u001b[0;32m    183\u001b[0m \u001b[38;5;28;01mif\u001b[39;00m response\u001b[38;5;241m.\u001b[39mstatus_code \u001b[38;5;241m!=\u001b[39m \u001b[38;5;241m200\u001b[39m:\n\u001b[0;32m    184\u001b[0m     \u001b[38;5;28;01mif\u001b[39;00m _can_parse_as_json_object(response\u001b[38;5;241m.\u001b[39mtext):\n\u001b[1;32m--> 185\u001b[0m         \u001b[38;5;28;01mraise\u001b[39;00m RestException(json\u001b[38;5;241m.\u001b[39mloads(response\u001b[38;5;241m.\u001b[39mtext))\n\u001b[0;32m    186\u001b[0m     \u001b[38;5;28;01melse\u001b[39;00m:\n\u001b[0;32m    187\u001b[0m         base_msg \u001b[38;5;241m=\u001b[39m \u001b[38;5;124m\"\u001b[39m\u001b[38;5;124mAPI request to endpoint \u001b[39m\u001b[38;5;132;01m%s\u001b[39;00m\u001b[38;5;124m failed with error code \u001b[39m\u001b[38;5;132;01m%s\u001b[39;00m\u001b[38;5;124m != 200\u001b[39m\u001b[38;5;124m\"\u001b[39m \u001b[38;5;241m%\u001b[39m (\n\u001b[0;32m    188\u001b[0m             endpoint,\n\u001b[0;32m    189\u001b[0m             response\u001b[38;5;241m.\u001b[39mstatus_code,\n\u001b[0;32m    190\u001b[0m         )\n",
      "\u001b[1;31mRestException\u001b[0m: INVALID_PARAMETER_VALUE:  Model registry functionality is unavailable; got unsupported URI 'file:///C:/Ml_Project/Demand-Forecasting-Retail/notebooks/mlruns' for model registry data storage. Supported URI schemes are: ['postgresql', 'mysql', 'sqlite', 'mssql']. See https://www.mlflow.org/docs/latest/tracking.html#storage for how to run an MLflow server against one of the supported backend storage locations."
     ]
    }
   ],
   "source": [
    "import mlflow\n",
    "import mlflow.pyfunc\n",
    "from mlflow.tracking import MlflowClient\n",
    "\n",
    "client = MlflowClient()\n",
    "run_id = \"bbe200e629934f1a8036f6c2711a7412\"  # Replace with actual best run ID\n",
    "\n",
    "# Register the model in MLflow Model Registry\n",
    "model_uri = f\"runs:/{run_id}/model\"\n",
    "model_name = \"ProphetForecastModel\"\n",
    "\n",
    "mlflow.register_model(model_uri, model_name)\n"
   ]
  }
 ],
 "metadata": {
  "kernelspec": {
   "display_name": "forcast",
   "language": "python",
   "name": "python3"
  },
  "language_info": {
   "codemirror_mode": {
    "name": "ipython",
    "version": 3
   },
   "file_extension": ".py",
   "mimetype": "text/x-python",
   "name": "python",
   "nbconvert_exporter": "python",
   "pygments_lexer": "ipython3",
   "version": "3.8.20"
  }
 },
 "nbformat": 4,
 "nbformat_minor": 4
}
